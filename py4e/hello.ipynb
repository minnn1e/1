{
 "cells": [
  {
   "cell_type": "code",
   "execution_count": null,
   "id": "ee9b73b0",
   "metadata": {},
   "outputs": [],
   "source": [
    "print(\"Hello world\")"
   ]
  }
 ],
 "metadata": {
  "language_info": {
   "name": "python"
  }
 },
 "nbformat": 4,
 "nbformat_minor": 5
}
