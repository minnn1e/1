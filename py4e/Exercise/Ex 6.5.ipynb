{
 "cells": [
  {
   "cell_type": "code",
   "execution_count": 19,
   "id": "49ba25a2",
   "metadata": {},
   "outputs": [
    {
     "name": "stdout",
     "output_type": "stream",
     "text": [
      "18\n",
      "0.8475\n"
     ]
    }
   ],
   "source": [
    "str = 'X_DSPAM-Confidence: 0.8475 '\n",
    "s = str.find(':') #find the location of ':'\n",
    "print(s)\n",
    "str[s+1: ] #parsing the string value from s+1 to the end\n",
    "n = float(str[s+1: ])\n",
    "print(n)"
   ]
  }
 ],
 "metadata": {
  "kernelspec": {
   "display_name": "Python 3",
   "language": "python",
   "name": "python3"
  },
  "language_info": {
   "codemirror_mode": {
    "name": "ipython",
    "version": 3
   },
   "file_extension": ".py",
   "mimetype": "text/x-python",
   "name": "python",
   "nbconvert_exporter": "python",
   "pygments_lexer": "ipython3",
   "version": "3.13.3"
  }
 },
 "nbformat": 4,
 "nbformat_minor": 5
}
