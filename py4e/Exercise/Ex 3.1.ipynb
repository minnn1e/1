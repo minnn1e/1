{
 "cells": [
  {
   "cell_type": "code",
   "execution_count": 19,
   "id": "9bbc148c",
   "metadata": {},
   "outputs": [
    {
     "name": "stdout",
     "output_type": "stream",
     "text": [
      "Pay: 550.0\n"
     ]
    }
   ],
   "source": [
    "#Exercise 3.1\n",
    "hours = input('Enter Hours: ')\n",
    "rate = input('Enter Rate: ')\n",
    "pay = float(hours)*float(rate) #conversion to float type\n",
    "if float(hours) > 40:\n",
    "    rate2 = 1.5 * float(rate)\n",
    "    pay = 40 * float(rate) + (float(hours) - 40) * float(rate2)\n",
    "    #print(\"Overtime\")\n",
    "    #print(\"Pay:\", pay)\n",
    "else:\n",
    "    #print(\"regular\")\n",
    "    pay = float(hours) * float(rate)\n",
    "    #print(\"Pay:\",pay)\n",
    "\n",
    "print(\"Pay:\",pay)\n",
    "\n"
   ]
  }
 ],
 "metadata": {
  "kernelspec": {
   "display_name": "Python 3",
   "language": "python",
   "name": "python3"
  },
  "language_info": {
   "codemirror_mode": {
    "name": "ipython",
    "version": 3
   },
   "file_extension": ".py",
   "mimetype": "text/x-python",
   "name": "python",
   "nbconvert_exporter": "python",
   "pygments_lexer": "ipython3",
   "version": "3.13.3"
  }
 },
 "nbformat": 4,
 "nbformat_minor": 5
}
