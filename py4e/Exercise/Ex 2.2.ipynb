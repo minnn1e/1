{
 "cells": [
  {
   "cell_type": "code",
   "execution_count": null,
   "id": "938965a7",
   "metadata": {},
   "outputs": [
    {
     "name": "stdout",
     "output_type": "stream",
     "text": [
      "Hello\n"
     ]
    }
   ],
   "source": [
    "print(\"Hello\") #터미널에서 작동이 되지 않는다. - 왜?"
   ]
  },
  {
   "cell_type": "code",
   "execution_count": 6,
   "id": "784d6e97",
   "metadata": {},
   "outputs": [
    {
     "name": "stdout",
     "output_type": "stream",
     "text": [
      "Hello Erin\n"
     ]
    }
   ],
   "source": [
    "#Exercise 2.2\n",
    "name = input('Enter your name: ')\n",
    "print(\"Hello\", name)"
   ]
  },
  {
   "cell_type": "code",
   "execution_count": null,
   "id": "03d28256",
   "metadata": {},
   "outputs": [
    {
     "name": "stdout",
     "output_type": "stream",
     "text": [
      "Pay: 96.25\n"
     ]
    }
   ],
   "source": [
    "#Exercise 2.3\n",
    "hour = input('Enter Hours: ') #type 'string'\n",
    "rate = input('Enter Rate: ') #type 'string'\n",
    "Pay = float(hour) * float(rate) #convert using float()\n",
    "print(\"Pay:\",Pay) #comma(,) gives you the space between the inputs"
   ]
  }
 ],
 "metadata": {
  "kernelspec": {
   "display_name": "Python 3",
   "language": "python",
   "name": "python3"
  },
  "language_info": {
   "codemirror_mode": {
    "name": "ipython",
    "version": 3
   },
   "file_extension": ".py",
   "mimetype": "text/x-python",
   "name": "python",
   "nbconvert_exporter": "python",
   "pygments_lexer": "ipython3",
   "version": "3.13.3"
  }
 },
 "nbformat": 4,
 "nbformat_minor": 5
}
