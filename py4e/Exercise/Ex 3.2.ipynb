{
 "cells": [
  {
   "cell_type": "code",
   "execution_count": null,
   "id": "82143609",
   "metadata": {},
   "outputs": [
    {
     "name": "stdout",
     "output_type": "stream",
     "text": [
      "Error, please enter numeric input.\n"
     ]
    }
   ],
   "source": [
    "#더 간단하고 깨끗한 코드 추천 from ChatGPT\n",
    "try:\n",
    "    hours = float(input('Enter Hours: '))\n",
    "    rate = float(input('Enter Rate: '))\n",
    "\n",
    "    if hours > 40:\n",
    "        rate2 = 1.5 * rate\n",
    "        pay = 40 * rate + (hours - 40) * rate2\n",
    "    else:\n",
    "        pay = hours * rate\n",
    "\n",
    "    print(\"Pay:\", pay)\n",
    "\n",
    "except:\n",
    "    print(\"Error, please enter numeric input.\")\n",
    "\n"
   ]
  },
  {
   "cell_type": "code",
   "execution_count": 38,
   "id": "204831d3",
   "metadata": {},
   "outputs": [
    {
     "name": "stdout",
     "output_type": "stream",
     "text": [
      "Pay: 475.0\n"
     ]
    }
   ],
   "source": [
    "hours = input('Enter Hours: ')\n",
    "rate = input('Enter Rate: ') #conversion to float type\n",
    "try:\n",
    "    if float(hours) > 40:\n",
    "        rate2 = 1.5 * float(rate)\n",
    "        pay = 40 * float(rate) + (float(hours) - 40) * float(rate2)\n",
    "    else:\n",
    "        pay = float(hours) * float(rate)\n",
    "    print(\"Pay:\",pay)\n",
    "\n",
    "except:\n",
    "    print(\"Error, please enter numeric input.\")\n",
    "    #quit() this function is meant for interactive environments to exit the program or shell, therefore in VSCode when the quit() function is called, it abruptly stops the kernel, which is the kernel crahs.\n",
    "    #Recommended to use 'sys.exit()', with 'import sys' at the beginning of the code to handle the program's termination when facing errors as input. It will cleanly exit the program without causing the kernel to crash (according to ChatGPT). However, in this code, there still seems to be an error.\n",
    "    #The code still runs without a problem without either of the code lines.\n",
    "\n",
    "    #print(\"Pay:\", pay)\n",
    "    #print(\"Pay:\",pay)\n",
    "\n",
    "#print(\"Pay:\",pay) the code logic is okay, but if \"pay\" is outside of the try block, it can return the old value from memory (in some environments, including Python shells and Jupyter notebooks.) Since pay was not redefined when 'ten' was the input (because it jumped right away to except block, the old pay value is still in memory.)\n"
   ]
  },
  {
   "cell_type": "code",
   "execution_count": null,
   "id": "65334b4b",
   "metadata": {},
   "outputs": [
    {
     "name": "stdout",
     "output_type": "stream",
     "text": [
      "Error, please enter numeric input.\n",
      "Pay: 550.0\n"
     ]
    }
   ],
   "source": [
    "#사용자가 옳은 input을 입력할 때가지 계속 input을 요구하는 코드. - while True loop 배우고 직접 해보기.\n",
    "while True:\n",
    "    try:\n",
    "        hours = float(input(\"Enter Hours: \"))\n",
    "        rate = float(input(\"Enter Rate: \"))\n",
    "        break  # Exit the loop if both inputs are valid\n",
    "    except ValueError:\n",
    "        print(\"Error, please enter numeric input.\")\n",
    "\n",
    "# Calculate pay with overtime\n",
    "if hours > 40:\n",
    "    regular_pay = 40 * rate\n",
    "    overtime_pay = (hours - 40) * rate * 1.5\n",
    "    total_pay = regular_pay + overtime_pay\n",
    "else:\n",
    "    total_pay = hours * rate\n",
    "\n",
    "print(\"Pay:\", total_pay)\n"
   ]
  }
 ],
 "metadata": {
  "kernelspec": {
   "display_name": "Python 3",
   "language": "python",
   "name": "python3"
  },
  "language_info": {
   "codemirror_mode": {
    "name": "ipython",
    "version": 3
   },
   "file_extension": ".py",
   "mimetype": "text/x-python",
   "name": "python",
   "nbconvert_exporter": "python",
   "pygments_lexer": "ipython3",
   "version": "3.13.3"
  }
 },
 "nbformat": 4,
 "nbformat_minor": 5
}
