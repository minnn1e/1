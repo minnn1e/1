{
 "cells": [
  {
   "cell_type": "code",
   "execution_count": null,
   "id": "e04ff3cc",
   "metadata": {},
   "outputs": [],
   "source": [
    "file = open('mbox-short.txt') #opens a file\n",
    "\n",
    "for line in file:\n",
    "    line = line.rstrip() #strips the right space\n",
    "    word = line.split() #splits the line into words\n",
    "    # if line == ' ': #Guardian pattern, protecting the next block.\n",
    "        # print('Skip Blank')\n",
    "        # continue #skip blank lines\n",
    "    if len(word) < 3: #Guardian pattern, protecting the next block.\n",
    "        continue\n",
    "    if len(word) < 3 or word[0] != 'From': #continue if the first word is not 'From'.\n",
    "        continue #this can work as well as a guardian statement. The order of the guardian is important.\n",
    "    print(word[2]) #if the first word is 'From', find the third word."
   ]
  }
 ],
 "metadata": {
  "language_info": {
   "name": "python"
  }
 },
 "nbformat": 4,
 "nbformat_minor": 5
}
