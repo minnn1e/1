{
 "cells": [
  {
   "cell_type": "code",
   "execution_count": 21,
   "id": "9394c2f9",
   "metadata": {},
   "outputs": [
    {
     "name": "stdout",
     "output_type": "stream",
     "text": [
      "Pay: 550.0\n"
     ]
    }
   ],
   "source": [
    "def computepay(hours, rate): #defines the function\n",
    "    #print(\"In computepay\",hours,rate) #have to call the function for the function to actually run.\n",
    "    if int(hours) > 40: #match the parameters inside the funciton (hours,rate)\n",
    "        pay2 = (int(hours) - 40) * 1.5 * int(rate)\n",
    "        pay = 40 * int(rate) + pay2\n",
    "    else:\n",
    "        pay = int(hours) * int(rate)\n",
    "    #print(\"Returning\",pay)\n",
    "    return pay #return a value in this function.\n",
    "\n",
    "hours = input(\"Enter Hours: \") #input value\n",
    "rate = input(\"Enter Rate: \") #input value\n",
    "\n",
    "pay = computepay(hours,rate) #call the function.\n",
    "\n",
    "\n",
    "print(\"Pay:\",pay)"
   ]
  }
 ],
 "metadata": {
  "kernelspec": {
   "display_name": "Python 3",
   "language": "python",
   "name": "python3"
  },
  "language_info": {
   "codemirror_mode": {
    "name": "ipython",
    "version": 3
   },
   "file_extension": ".py",
   "mimetype": "text/x-python",
   "name": "python",
   "nbconvert_exporter": "python",
   "pygments_lexer": "ipython3",
   "version": "3.13.3"
  }
 },
 "nbformat": 4,
 "nbformat_minor": 5
}
