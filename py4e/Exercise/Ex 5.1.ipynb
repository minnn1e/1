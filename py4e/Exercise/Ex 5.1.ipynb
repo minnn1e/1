{
 "cells": [
  {
   "cell_type": "code",
   "execution_count": 10,
   "id": "175042dc",
   "metadata": {},
   "outputs": [
    {
     "name": "stdout",
     "output_type": "stream",
     "text": [
      "Invalid input\n",
      "16.0 3 5.333333333333333\n"
     ]
    }
   ],
   "source": [
    "total = 0.0 #iteration variable for total, running total\n",
    "count = 0 #iteration variable for count, running count\n",
    "while True:\n",
    "        number = input('Enter a number: ') #input gives string\n",
    "        if number == 'done':\n",
    "            break\n",
    "        try:\n",
    "              num = float(number) #change the input type to float for numerical calculation\n",
    "        #print(num)\n",
    "        except:\n",
    "              print('Invalid input')\n",
    "              continue #go back up to the top\n",
    "        total = total + num #합을 구하려변 최초 값에 더해주는 코드 입력.\n",
    "        count = count + 1 #갯수를 구하려면 최초 값에 +1.\n",
    "        #if number == 'done':\n",
    "         #   break\n",
    "        #except:\n",
    "        #    print('Invalid input')\n",
    "\n",
    "average = total / count\n",
    "print(total, count, average)\n",
    "        \n"
   ]
  },
  {
   "cell_type": "code",
   "execution_count": 11,
   "id": "33a438be",
   "metadata": {},
   "outputs": [
    {
     "name": "stdout",
     "output_type": "stream",
     "text": [
      "Invalid input\n",
      "16.0 3 5.333333333333333\n"
     ]
    }
   ],
   "source": [
    "total = 0.0 #iteration variable for total, running total\n",
    "count = 0 #iteration variable for count, running count\n",
    "while True:\n",
    "        try:\n",
    "            number = input('Enter a number: ') #input gives string\n",
    "            if number == 'done':\n",
    "                break\n",
    "            num = float(number) #change the input type to float for numerical calculation\n",
    "        #print(num)\n",
    "            total = total + num #합을 구하려변 최초 값에 더해주는 코드 입력.\n",
    "            count = count + 1 #갯수를 구하려면 최초 값에 +1.\n",
    "        except:\n",
    "            print('Invalid input')\n",
    "            continue\n",
    "        #print('Enter a number: bad data')\n",
    "\n",
    "average = total / count\n",
    "print(total, count, average)"
   ]
  },
  {
   "cell_type": "code",
   "execution_count": null,
   "id": "fdb14dbc",
   "metadata": {},
   "outputs": [],
   "source": []
  },
  {
   "cell_type": "code",
   "execution_count": null,
   "id": "5c1f913a",
   "metadata": {},
   "outputs": [],
   "source": []
  }
 ],
 "metadata": {
  "kernelspec": {
   "display_name": "Python 3",
   "language": "python",
   "name": "python3"
  },
  "language_info": {
   "codemirror_mode": {
    "name": "ipython",
    "version": 3
   },
   "file_extension": ".py",
   "mimetype": "text/x-python",
   "name": "python",
   "nbconvert_exporter": "python",
   "pygments_lexer": "ipython3",
   "version": "3.13.3"
  }
 },
 "nbformat": 4,
 "nbformat_minor": 5
}
